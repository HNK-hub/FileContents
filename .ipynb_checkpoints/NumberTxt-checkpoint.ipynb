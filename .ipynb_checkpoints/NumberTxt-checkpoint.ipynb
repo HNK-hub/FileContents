{
 "cells": [
  {
   "cell_type": "code",
   "execution_count": 9,
   "metadata": {},
   "outputs": [
    {
     "name": "stdout",
     "output_type": "stream",
     "text": [
      "Dosya içinde int veri tipine sahip bir değer mevcut.\n",
      "Dosya içinde int veri tipine sahip bir değer mevcut.\n",
      "Dosya içinde int veri tipine sahip bir değer mevcut.\n",
      "Dosya içinde int veri tipine sahip bir değer yok.\n"
     ]
    }
   ],
   "source": [
    "#Birden fazla olan dosyaları okur ve ekrana tüm verileri yazdırır.\n",
    "import os\n",
    "\n",
    "path = \"files\"\n",
    "\n",
    "for file in os.listdir(path):\n",
    "    if file.endswith(\".txt\"):\n",
    "        filePath = os.path.join(path, file)\n",
    "        with open(filePath, 'r', encoding='utf-8') as file:\n",
    "            for line in file:\n",
    "                 if line.strip().isdigit():\n",
    "                    print('Dosya içinde int veri tipine sahip bir değer mevcut.')\n",
    "                    break\n",
    "            else:\n",
    "                print('Dosya içinde int veri tipine sahip bir değer yok.')"
   ]
  },
  {
   "cell_type": "code",
   "execution_count": 25,
   "metadata": {},
   "outputs": [
    {
     "name": "stdout",
     "output_type": "stream",
     "text": [
      "\n",
      "<_io.TextIOWrapper name='files\\\\testData1.txt' mode='r' encoding='utf-8'> dosyasında 147 uygun sayı bulundu.\n",
      "\n",
      "<_io.TextIOWrapper name='files\\\\testData2.txt' mode='r' encoding='utf-8'> dosyasında 151 uygun sayı bulundu.\n",
      "\n",
      "<_io.TextIOWrapper name='files\\\\testData3.txt' mode='r' encoding='utf-8'> dosyasında 143 uygun sayı bulundu.\n",
      "\n",
      "<_io.TextIOWrapper name='files\\\\testData4.txt' mode='r' encoding='utf-8'> dosyasında 0 uygun sayı bulundu.\n",
      "{<_io.TextIOWrapper name='files\\\\testData1.txt' mode='r' encoding='utf-8'>: 147, <_io.TextIOWrapper name='files\\\\testData2.txt' mode='r' encoding='utf-8'>: 151, <_io.TextIOWrapper name='files\\\\testData3.txt' mode='r' encoding='utf-8'>: 143, <_io.TextIOWrapper name='files\\\\testData4.txt' mode='r' encoding='utf-8'>: 0}\n"
     ]
    }
   ],
   "source": [
    "import os\n",
    "\n",
    "def isNumber(s):\n",
    "    # İlk olarak, gelen string'de sadece rakam, nokta, virgül ve boşluk karakterlerinin olup olmadığını kontrol ediyoruz.\n",
    "    if not all(c.isdigit() or c in [',', '.', ' '] for c in s):\n",
    "        return False\n",
    "    # String'i, nokta ve virgüle göre parçalıyoruz.\n",
    "    parts = s.split('.')\n",
    "    if len(parts) > 2:\n",
    "        return False\n",
    "    # Virgül kullanımını düzeltiyoruz (örneğin, 1,000,000 şeklinde kullanılan binlik gruplama).\n",
    "    parts[0] = parts[0].replace(',', '')\n",
    "    if len(parts) == 2:\n",
    "        parts[1] = parts[1].replace(',', '')\n",
    "\n",
    "    # Tüm parçaların sadece rakam içermesi gerekiyor.\n",
    "    if not all(p.isdigit() for p in parts):\n",
    "        return False\n",
    "\n",
    "    # Negatif işaretin sadece başta olması gerekiyor.\n",
    "    if any(c == '-' for c in s) and s.index('-') != 0:\n",
    "        return False\n",
    "\n",
    "    # Kuralları kontrol ediyoruz\n",
    "    if any(c in s for c in [',', ' ']) and len(parts[0]) < 2:\n",
    "        return False\n",
    "    if len(parts) == 2 and len(parts[1]) > 2:\n",
    "        return False\n",
    "    if len(parts) == 2 and any(p == '' for p in parts):\n",
    "        return False\n",
    "    return True\n",
    "\n",
    "path = \"files\"\n",
    "results = {}\n",
    "\n",
    "for file in os.listdir(path):\n",
    "    if file.endswith(\".txt\"):\n",
    "        filePath = os.path.join(path, file)\n",
    "        count = 0\n",
    "        with open(filePath, 'r', encoding='utf-8') as file:\n",
    "            for line in file:\n",
    "                if isNumber(line.strip()):\n",
    "                    count += 1\n",
    "        results[file] = count\n",
    "        print(f\"{file} dosyasında {count} uygun sayı bulundu.\")\n",
    "\n",
    "print(results)"
   ]
  },
  {
   "cell_type": "code",
   "execution_count": null,
   "metadata": {},
   "outputs": [],
   "source": []
  }
 ],
 "metadata": {
  "kernelspec": {
   "display_name": "Python 3",
   "language": "python",
   "name": "python3"
  },
  "language_info": {
   "codemirror_mode": {
    "name": "ipython",
    "version": 3
   },
   "file_extension": ".py",
   "mimetype": "text/x-python",
   "name": "python",
   "nbconvert_exporter": "python",
   "pygments_lexer": "ipython3",
   "version": "3.8.3"
  }
 },
 "nbformat": 4,
 "nbformat_minor": 4
}
