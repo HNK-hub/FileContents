{
 "cells": [
  {
   "cell_type": "code",
   "execution_count": null,
   "metadata": {},
   "outputs": [],
   "source": [
    "import os\n",
    "import re\n",
    "\n",
    "# + - kontrolü sağlanır. Basamak sayısı ayarlanabilir. ondalık kısım ve virgül değerlendirilir.\n",
    "regex = r'^-?\\d{1,3}(,\\d{3})*(\\.\\d+)?$'\n",
    "\n",
    "path = \"files\"\n",
    "results = {}\n",
    "\n",
    "for file in os.listdir(path):\n",
    "    if file.endswith(\".txt\"):\n",
    "        filePath = os.path.join(path, file)\n",
    "        count = 0\n",
    "        with open(filePath, 'r', encoding='utf-8') as file:\n",
    "            for line in file:\n",
    "                if re.findall(regex, line.strip()):\n",
    "                    count += 1\n",
    "        results[file] = count\n",
    "        print(f\"{file} dosyasında {count} uygun sayı bulundu.\\n\")\n"
   ]
  }
 ],
 "metadata": {
  "kernelspec": {
   "display_name": "Python 3",
   "language": "python",
   "name": "python3"
  },
  "language_info": {
   "codemirror_mode": {
    "name": "ipython",
    "version": 3
   },
   "file_extension": ".py",
   "mimetype": "text/x-python",
   "name": "python",
   "nbconvert_exporter": "python",
   "pygments_lexer": "ipython3",
   "version": "3.8.3"
  }
 },
 "nbformat": 4,
 "nbformat_minor": 4
}
