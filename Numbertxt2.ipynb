{
 "cells": [
  {
   "cell_type": "code",
   "execution_count": 2,
   "metadata": {},
   "outputs": [
    {
     "name": "stdout",
     "output_type": "stream",
     "text": [
      "<_io.TextIOWrapper name='files\\\\test.txt' mode='r' encoding='utf-8'> dosyasında 0 uygun sayı bulundu.\n",
      "\n",
      "<_io.TextIOWrapper name='files\\\\testControl1.txt' mode='r' encoding='utf-8'> dosyasında 2 uygun sayı bulundu.\n",
      "\n",
      "<_io.TextIOWrapper name='files\\\\testData1.txt' mode='r' encoding='utf-8'> dosyasında 10059 uygun sayı bulundu.\n",
      "\n",
      "<_io.TextIOWrapper name='files\\\\testData2.txt' mode='r' encoding='utf-8'> dosyasında 10167 uygun sayı bulundu.\n",
      "\n",
      "<_io.TextIOWrapper name='files\\\\testData4.txt' mode='r' encoding='utf-8'> dosyasında 10 uygun sayı bulundu.\n",
      "\n"
     ]
    }
   ],
   "source": [
    "import os\n",
    "import re\n",
    "\n",
    "# + - kontrolü sağlanır. Basamak sayısı ayarlanabilir. ondalık kısım ve virgül değerlendirilir.\n",
    "regex = r'^-?\\d{1,3}(,\\d{3})*(\\.\\d+)?$'\n",
    "\n",
    "path = \"files\"\n",
    "results = {}\n",
    "\n",
    "for file in os.listdir(path):\n",
    "    if file.endswith(\".txt\"):\n",
    "        filePath = os.path.join(path, file)\n",
    "        count = 0\n",
    "        with open(filePath, 'r', encoding='utf-8') as file:\n",
    "            for line in file:\n",
    "                if re.findall(regex, line.strip()):\n",
    "                    count += 1\n",
    "        results[file] = count\n",
    "        print(f\"{file} dosyasında {count} uygun sayı bulundu.\\n\")\n"
   ]
  },
  {
   "cell_type": "code",
   "execution_count": 3,
   "metadata": {},
   "outputs": [
    {
     "name": "stdout",
     "output_type": "stream",
     "text": [
      "test.txt dosyasında 0 uygun sayı bulundu.\n",
      "\n",
      "testControl1.txt dosyasında 2 uygun sayı bulundu.\n",
      "\n",
      "testData1.txt dosyasında 13608 uygun sayı bulundu.\n",
      "\n",
      "testData2.txt dosyasında 13649 uygun sayı bulundu.\n",
      "\n",
      "testData4.txt dosyasında 14 uygun sayı bulundu.\n",
      "\n",
      "Toplam sonuçlar:\n",
      "{'test.txt': 0, 'testControl1.txt': 2, 'testData1.txt': 13608, 'testData2.txt': 13649, 'testData4.txt': 14}\n"
     ]
    }
   ],
   "source": [
    "import os\n",
    "import re\n",
    "\n",
    "# düzenli ifade\n",
    "regex = r'^-?\\d{1,3}(?:[ ,]?\\d{3})*(?:\\.\\d+)?$'\n",
    "\n",
    "path = \"files\"\n",
    "results = {}\n",
    "\n",
    "for file in os.listdir(path):\n",
    "    if file.endswith(\".txt\"):\n",
    "        filePath = os.path.join(path, file)\n",
    "        count = 0\n",
    "        with open(filePath, 'r', encoding='utf-8') as f:\n",
    "            for line in f:\n",
    "                if re.findall(regex, line.strip()):\n",
    "                    count += 1\n",
    "        results[file] = count\n",
    "        print(f\"{file} dosyasında {count} uygun sayı bulundu.\\n\")\n",
    "\n",
    "print(\"Toplam sonuçlar:\")\n",
    "print(results)\n"
   ]
  },
  {
   "cell_type": "code",
   "execution_count": null,
   "metadata": {},
   "outputs": [],
   "source": []
  }
 ],
 "metadata": {
  "kernelspec": {
   "display_name": "Python 3",
   "language": "python",
   "name": "python3"
  },
  "language_info": {
   "codemirror_mode": {
    "name": "ipython",
    "version": 3
   },
   "file_extension": ".py",
   "mimetype": "text/x-python",
   "name": "python",
   "nbconvert_exporter": "python",
   "pygments_lexer": "ipython3",
   "version": "3.8.3"
  }
 },
 "nbformat": 4,
 "nbformat_minor": 4
}
