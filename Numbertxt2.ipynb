import os
import re

# düzenli ifade
regex = r'^-?\d{1,3}(?:[ ,]?\d{3})*(?:\.\d+)?$'

path = "files"
results = {}

for file in os.listdir(path):
    if file.endswith(".txt"):
        filePath = os.path.join(path, file)
        count = 0
        with open(filePath, 'r', encoding='utf-8') as f:
            for line in f:
                if re.findall(regex, line.strip()):
                    count += 1
        results[file] = count
        print(f"{file} dosyasında {count} uygun sayı bulundu.\n")

print("Toplam sonuçlar:")
print(results)
