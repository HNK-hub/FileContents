{
 "cells": [
  {
   "cell_type": "code",
   "execution_count": 3,
   "metadata": {},
   "outputs": [
    {
     "name": "stdin",
     "output_type": "stream",
     "text": [
      "How many txt files do you create :   20\n"
     ]
    }
   ],
   "source": [
    "import random\n",
    "import string\n",
    "\n",
    "# Olası karakterlerin bir listesini tanımlayın\n",
    "possible_chars = string.ascii_letters + string.digits + string.punctuation\n",
    "numberFiles = int(input(\"How many txt files do you create :  \"))\n",
    "# 50 dosya oluşturun\n",
    "for i in range(1, numberFiles + 1):\n",
    "    # Dosya adını oluşturun\n",
    "    filename = f'dosya{i}.txt'\n",
    "\n",
    "    # Dosyayı açın ve 'w' (yazma) modunda açın\n",
    "    with open(filename, 'w') as file:\n",
    "        # Her dosyaya 10 satır ekleyin\n",
    "        for j in range(10):\n",
    "            # Her satırı rastgele bir string ile doldurun\n",
    "            random_string = ''.join(random.choice(possible_chars) for k in range(10))\n",
    "            file.write(random_string + '\\n')\n"
   ]
  },
  {
   "cell_type": "code",
   "execution_count": 32,
   "metadata": {},
   "outputs": [
    {
     "data": {
      "text/plain": [
       "12"
      ]
     },
     "execution_count": 32,
     "metadata": {},
     "output_type": "execute_result"
    }
   ],
   "source": [
    "#İçini Doldurma\n"
   ]
  },
  {
   "cell_type": "code",
   "execution_count": 33,
   "metadata": {},
   "outputs": [],
   "source": [
    "file.close()                      #Dosyayi kapat"
   ]
  },
  {
   "cell_type": "code",
   "execution_count": null,
   "metadata": {},
   "outputs": [],
   "source": []
  }
 ],
 "metadata": {
  "kernelspec": {
   "display_name": "Python 3",
   "language": "python",
   "name": "python3"
  },
  "language_info": {
   "codemirror_mode": {
    "name": "ipython",
    "version": 3
   },
   "file_extension": ".py",
   "mimetype": "text/x-python",
   "name": "python",
   "nbconvert_exporter": "python",
   "pygments_lexer": "ipython3",
   "version": "3.8.3"
  }
 },
 "nbformat": 4,
 "nbformat_minor": 4
}
