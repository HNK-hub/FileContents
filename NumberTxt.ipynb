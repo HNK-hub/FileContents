import os
def isNumber(s):
    if not all(c.isdigit() or c in [',', '.', ' '] for c in s):
        return False
    parts = s.split('.')
    if len(parts) > 2:
        return False
    parts[0] = parts[0].replace(',', '')
    if len(parts) == 2:
        parts[1] = parts[1].replace(',', '')
    if not all(p.isdigit() for p in parts):
        return False
    if any(c == '-' for c in s) and s.index('-') != 0:
        return False
    if any(c in s for c in [',', ' ']) and len(parts[0]) < 2:
        return False
    if len(parts) == 2 and len(parts[1]) > 2:
        return False
    if len(parts) == 2 and any(p == '' for p in parts):
        return False
    return True

path = "files"
results = {}

for file in os.listdir(path):
    if file.endswith(".txt"):
        filePath = os.path.join(path, file)
        count = 0
        with open(filePath, 'r', encoding='utf-8') as file:
            for line in file:
                if isNumber(line.strip()):
                    count += 1
        results[file] = count
        print("*"f"{file} dosyasında {count} uygun sayı bulundu. \n")  
