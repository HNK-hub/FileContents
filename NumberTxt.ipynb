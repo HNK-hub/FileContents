{
 "cells": [
  {
   "cell_type": "code",
   "execution_count": 12,
   "metadata": {},
   "outputs": [
    {
     "name": "stdout",
     "output_type": "stream",
     "text": [
      "Dosya içinde int veri tipine sahip bir değer mevcut.\n",
      "Dosya içinde int veri tipine sahip bir değer mevcut.\n",
      "Dosya içinde int veri tipine sahip bir değer mevcut.\n",
      "Dosya içinde int veri tipine sahip bir değer mevcut.\n",
      "Dosya içinde int veri tipine sahip bir değer mevcut.\n"
     ]
    }
   ],
   "source": [
    "#Birden fazla olan dosyaları okur ve ekrana tüm verileri yazdırır.\n",
    "import os\n",
    "\n",
    "path = \"files\"\n",
    "\n",
    "for file in os.listdir(path):\n",
    "    if file.endswith(\".txt\"):\n",
    "        filePath = os.path.join(path, file)\n",
    "        with open(filePath, 'r', encoding='utf-8') as file:\n",
    "            for line in file:\n",
    "                 if line.strip().isdigit():\n",
    "                    print('Dosya içinde int veri tipine sahip bir değer mevcut.')\n",
    "                    break\n",
    "            else:\n",
    "                print('Dosya içinde int veri tipine sahip bir değer yok.')"
   ]
  },
  {
   "cell_type": "code",
   "execution_count": 11,
   "metadata": {},
   "outputs": [
    {
     "ename": "SyntaxError",
     "evalue": "invalid syntax (<ipython-input-11-fb7a4e40a034>, line 1)",
     "output_type": "error",
     "traceback": [
      "\u001b[1;36m  File \u001b[1;32m\"<ipython-input-11-fb7a4e40a034>\"\u001b[1;36m, line \u001b[1;32m1\u001b[0m\n\u001b[1;33m    def isNumber:\u001b[0m\n\u001b[1;37m                ^\u001b[0m\n\u001b[1;31mSyntaxError\u001b[0m\u001b[1;31m:\u001b[0m invalid syntax\n"
     ]
    }
   ],
   "source": [
    "def isNumber:\n",
    "    "
   ]
  },
  {
   "cell_type": "code",
   "execution_count": 14,
   "metadata": {},
   "outputs": [
    {
     "name": "stdout",
     "output_type": "stream",
     "text": [
      "Dosya içinde int veri tipine sahip bir değer var.\n",
      "Dosya içinde int veri tipine sahip bir değer var.\n",
      "Dosya içinde int veri tipine sahip bir değer var.\n",
      "Dosya içinde int veri tipine sahip bir değer var.\n",
      "Dosya içinde int veri tipine sahip bir değer var.\n"
     ]
    }
   ],
   "source": [
    "import os\n",
    "\n",
    "def isNumber(s):\n",
    "     # İlk olarak, gelen string'de sadece rakam, nokta, virgül ve boşluk karakterlerinin olup olmadığını kontrol ediyoruz.\n",
    "    if not all(c.isdigit() or c in [',', '.', ' '] for c in s):\n",
    "        return False\n",
    "    # String'i, nokta ve virgüle göre parçalıyoruz.\n",
    "    parts = s.split('.')\n",
    "    if len(parts) > 2:\n",
    "        return False\n",
    "    # Virgül kullanımını düzeltiyoruz (örneğin, 1,000,000 şeklinde kullanılan binlik gruplama).\n",
    "    parts[0] = parts[0].replace(',', '')\n",
    "    if len(parts) == 2:\n",
    "        parts[1] = parts[1].replace(',', '')\n",
    "    \n",
    "    # Tüm parçaların sadece rakam içermesi gerekiyor.\n",
    "    if not all(p.isdigit() for p in parts):\n",
    "        return False\n",
    "    \n",
    "    # Negatif işaretin sadece başta olması gerekiyor.\n",
    "    if any(c == '-' for c in s) and s.index('-') != 0:\n",
    "        return False\n",
    "    \n",
    "    return True\n",
    "path = \"files\"\n",
    "sayac=0\n",
    "for file in os.listdir(path):\n",
    "    if file.endswith(\".txt\"):\n",
    "        filePath = os.path.join(path, file)\n",
    "        with open(filePath, 'r', encoding='utf-8') as file:\n",
    "            for line in file:\n",
    "                if isNumber(line.strip()):\n",
    "                    print('Dosya içinde int veri tipine sahip bir değer var.')\n",
    "                    break\n",
    "            else:\n",
    "                print('Dosya içinde int veri tipine sahip bir değer yok.')\n"
   ]
  },
  {
   "cell_type": "code",
   "execution_count": null,
   "metadata": {},
   "outputs": [],
   "source": []
  }
 ],
 "metadata": {
  "kernelspec": {
   "display_name": "Python 3",
   "language": "python",
   "name": "python3"
  },
  "language_info": {
   "codemirror_mode": {
    "name": "ipython",
    "version": 3
   },
   "file_extension": ".py",
   "mimetype": "text/x-python",
   "name": "python",
   "nbconvert_exporter": "python",
   "pygments_lexer": "ipython3",
   "version": "3.8.3"
  }
 },
 "nbformat": 4,
 "nbformat_minor": 4
}
